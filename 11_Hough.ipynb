{
 "cells": [
  {
   "cell_type": "code",
   "execution_count": 1,
   "metadata": {},
   "outputs": [
    {
     "name": "stderr",
     "output_type": "stream",
     "text": [
      "--2023-06-13 21:58:29--  https://raw.githubusercontent.com/vision-agh/poc_sw/master/11_Hough/kwadraty.png\n",
      "Resolving raw.githubusercontent.com (raw.githubusercontent.com)... 185.199.109.133, 185.199.111.133, 185.199.110.133, ...\n",
      "Connecting to raw.githubusercontent.com (raw.githubusercontent.com)|185.199.109.133|:443... connected.\n",
      "HTTP request sent, awaiting response... 200 OK\n",
      "Length: 66767 (65K) [image/png]\n",
      "Saving to: 'kwadraty.png'\n",
      "\n",
      "     0K .......... .......... .......... .......... .......... 76% 1,53M 0s\n",
      "    50K .......... .....                                      100% 4,44M=0,04s\n",
      "\n",
      "2023-06-13 21:58:29 (1,80 MB/s) - 'kwadraty.png' saved [66767/66767]\n",
      "\n",
      "--2023-06-13 21:58:29--  https://raw.githubusercontent.com/vision-agh/poc_sw/master/11_Hough/lab112.png\n",
      "Resolving raw.githubusercontent.com (raw.githubusercontent.com)... 185.199.109.133, 185.199.111.133, 185.199.110.133, ...\n",
      "Connecting to raw.githubusercontent.com (raw.githubusercontent.com)|185.199.109.133|:443... connected.\n",
      "HTTP request sent, awaiting response... 200 OK\n",
      "Length: 123336 (120K) [image/png]\n",
      "Saving to: 'lab112.png'\n",
      "\n",
      "     0K .......... .......... .......... .......... .......... 41% 1,61M 0s\n",
      "    50K .......... .......... .......... .......... .......... 83% 3,13M 0s\n",
      "   100K .......... ..........                                 100% 2,30M=0,05s\n",
      "\n",
      "2023-06-13 21:58:30 (2,16 MB/s) - 'lab112.png' saved [123336/123336]\n",
      "\n",
      "--2023-06-13 21:58:30--  https://raw.githubusercontent.com/vision-agh/poc_sw/master/11_Hough/dom.png\n",
      "Resolving raw.githubusercontent.com (raw.githubusercontent.com)... 185.199.109.133, 185.199.111.133, 185.199.110.133, ...\n",
      "Connecting to raw.githubusercontent.com (raw.githubusercontent.com)|185.199.109.133|:443... connected.\n",
      "HTTP request sent, awaiting response... 200 OK\n",
      "Length: 233926 (228K) [image/png]\n",
      "Saving to: 'dom.png'\n",
      "\n",
      "     0K .......... .......... .......... .......... .......... 21% 1,50M 0s\n",
      "    50K .......... .......... .......... .......... .......... 43% 3,94M 0s\n",
      "   100K .......... .......... .......... .......... .......... 65% 3,21M 0s\n",
      "   150K .......... .......... .......... .......... .......... 87% 3,87M 0s\n",
      "   200K .......... .......... ........                        100% 2,56M=0,08s\n",
      "\n",
      "2023-06-13 21:58:30 (2,67 MB/s) - 'dom.png' saved [233926/233926]\n",
      "\n"
     ]
    },
    {
     "data": {
      "text/plain": "(-0.5, 63.5, 63.5, -0.5)"
     },
     "execution_count": 1,
     "metadata": {},
     "output_type": "execute_result"
    },
    {
     "data": {
      "text/plain": "<Figure size 400x400 with 1 Axes>",
      "image/png": "[encoded data removed]"
     },
     "metadata": {},
     "output_type": "display_data"
    }
   ],
   "source": [
    "import matplotlib.pyplot as plt\n",
    "import cv2\n",
    "import numpy as np\n",
    "from skimage.transform import hough_line, hough_line_peaks\n",
    "import os\n",
    "\n",
    "if not os.path.exists(\"kwadraty.png\") :\n",
    "    !wget https://raw.githubusercontent.com/vision-agh/poc_sw/master/11_Hough/kwadraty.png --no-check-certificate\n",
    "if not os.path.exists(\"lab112.png\") :\n",
    "    !wget https://raw.githubusercontent.com/vision-agh/poc_sw/master/11_Hough/lab112.png --no-check-certificate\n",
    "if not os.path.exists(\"dom.png\") :\n",
    "    !wget https://raw.githubusercontent.com/vision-agh/poc_sw/master/11_Hough/dom.png --no-check-certificate\n",
    "\n",
    "im = np.zeros((64,64), dtype=np.uint8)\n",
    "\n",
    "im[18, 31] = 1\n",
    "\n",
    "fig, ax = plt.subplots()\n",
    "fig.set_size_inches(4, 4)\n",
    "ax.imshow(im, 'gray')\n",
    "ax.axis('off')\n"
   ]
  },
  {
   "cell_type": "markdown",
   "source": [
    "# Instrukcja - Transformacja Hougha\n",
    "\n",
    "### Cel:\n",
    "- zapoznanie z transformacją Hougha dla pojedynczego punktu,\n",
    "- kilku punktów, prostych figur\n",
    "- wykorzystanie transformacji Hougha do detekcji linii prostych na rzeczywistym obrazie\n",
    "- transformacja Hougha w przestrzeni ab\n",
    "\n",
    "### Transformacja Hougha\n",
    "\n",
    "Transformacja Hougha dla prostych jest metodą detekcji współliniowych punktów. Każda prosta może być jednoznacznie przedstawiona za pomocą dwóch parametrów. Przestrzeń tych parametrów to przestrzeń Hougha. Najczęściej wykorzystywanymi parametrami w tej metodzie są współczynniki ρ,θ\n",
    "\n",
    "opisujące równanie prostej w postaci normalnej:\n",
    "\n",
    "ρ=x⋅cos(θ)+y⋅sin(θ)\n",
    "\n",
    "gdzie: ρ - promień wodzący, θ - kąt pomiędzy ρ a osią OX.\n",
    "\n",
    "Własności transformacji Hougha:\n",
    "- prostej w przestrzeni kartezjańskiej odpowiada punkt w przestrzeni Hougha\n",
    "- pękowi prostych przechdzących przez punkt w przestrzeni kartezjańskiej odpowiada krzywa sinusoidalna w przestrzeni Hougha\n",
    "- punkty leżące na tej samej prostej (w przestrzeni kartezjańskiej) korespondują z sinusoidami przechodzącymi przez wspólny punkt w przestrzeni Hougha.\n",
    "\n",
    "Metoda wyliczania transformacji Hougha składa się z następujących kroków:\n",
    "- przez każdy badany (różny od zera) punkt obrazu prowadzony jest pęk prostych, przechodzących przez ten punkt\n",
    "- każda z tych prostych transformowana jest do przestrzeni Hougha i tworzy tam punkt o współrzędnych ρ,θ\n",
    "- w ten sposób, każdy punkt obrazu pierwotnego (pęk prostych) jest odwzorowany w sinusoidalną krzywą w przestrzeni Hougha\n",
    "\n",
    "Przestrzeń Hougha jest przestrzenią akumulacyjną tzn. punkty sinusoidalnych krzywych, wygenerowanych dla punktów obrazu pierwotnego dodają się w miejscach, w których krzywe te przecinają się. Powstałe w ten sposób (w przestrzeni Hougha) maksima odpowiadają zbiorom punktów, należących do jednej prostej. Współrzędne ρ,θ\n",
    "tego maksimum jednoznacznie określają położenie prostej na obrazie pierwotnym.\n",
    "\n",
    "### Transformacja Hougha dla małej liczby punktów.\n",
    "   1. Uruchom poniższy kod. W tablicy `im` wskaż jeden punkt, dla którego ma zostać obliczona transformata."
   ],
   "metadata": {
    "collapsed": false
   }
  },
  {
   "cell_type": "markdown",
   "metadata": {},
   "source": [
    "3. Wykonaj transformację Hougha obazu im. Wykorzystaj funkcję *hough_line* z modułu _skimage.transform_. Funkcja zwraca: macierz H (przestrzeń Hougha) oraz dwa wektory theta i rho dla kolejnych \n",
    "4. Wyświetl przestrzeń Hougha za pomocą funkcji _plt.imshow_ (można też wykorzystać poniższą funkcję *show_hough*). Jak \"wygląda\" pojedynczy punkt w przestrzeni Hougha?"
   ]
  },
  {
   "cell_type": "code",
   "execution_count": null,
   "metadata": {},
   "outputs": [],
   "source": [
    "def show_hough(h, image):\n",
    "    # Generating figure 1\n",
    "    fig, axes = plt.subplots(1, 2, figsize=(15, 6))\n",
    "    ax = axes.ravel()\n",
    "\n",
    "    ax[0].imshow(image, 'gray')\n",
    "    ax[0].set_title('Input image')\n",
    "    ax[0].set_axis_off()\n",
    "\n",
    "    ax[1].imshow(h, 'gray')\n",
    "    ax[1].set_title('Hough transform')\n",
    "    ax[1].set_xlabel('Angles (degrees)')\n",
    "    ax[1].set_ylabel('Distance (pixels)')\n",
    "    ax[1].axis('image')\n",
    "    \n",
    "    plt.tight_layout()\n",
    "    plt.show()"
   ]
  },
  {
   "cell_type": "code",
   "execution_count": null,
   "outputs": [],
   "source": [
    "hough = hough_line(im)\n",
    "show_hough(hough[0], im)"
   ],
   "metadata": {
    "collapsed": false
   }
  },
  {
   "cell_type": "markdown",
   "metadata": {},
   "source": [
    "5. Powtórz punkty 1-4, ale tym razem klinkij dwa punkty. Jak zmienia się przestrzeń Hougha?\n",
    "6. Powtórz punkty 1-4, ale tym razem kliknij kilka punktów starając się aby były współliniowe. Zaobserwuj zmiany w przestrzeni Hougha\n",
    "7. Poeksperymentuj z różnymi układami punktów"
   ]
  },
  {
   "cell_type": "code",
   "execution_count": null,
   "outputs": [],
   "source": [
    "im1 = np.zeros((64,64), dtype=np.uint8)\n",
    "\n",
    "im1[60, 32] = 1\n",
    "im1[32,60] = 1\n",
    "\n",
    "hough = hough_line(im1)\n",
    "show_hough(hough[0], im1)"
   ],
   "metadata": {
    "collapsed": false
   }
  },
  {
   "cell_type": "code",
   "execution_count": null,
   "outputs": [],
   "source": [
    "im2 = np.zeros((64,64), dtype=np.uint8)\n",
    "\n",
    "im2[44, 22] = 1\n",
    "im2[22,22] = 1\n",
    "im2[33, 44] = 1\n",
    "\n",
    "hough = hough_line(im2)\n",
    "show_hough(hough[0], im2)"
   ],
   "metadata": {
    "collapsed": false
   }
  },
  {
   "cell_type": "markdown",
   "metadata": {},
   "source": [
    "### Transformata Hougha dla pojedynczego obiektu\n",
    "\n",
    "W tym podpunkcie pokazane zostanie praktycznie wykorzystanie transformaty Hougha - do detekcji prostych na sztucznym rysunku.\n",
    "\n",
    "   1. Wczytaj obraz \"kwadraty.png\". Wyświetl go.\n",
    "   2. Wykonaj detekcję krawędzi jedną z metod gradientowych. Ważne aby obraz krawędzi był jak najlepszej jakości - co oznacza cienkie (nawet niekoniecznie ciągłe) krawędzie - dla tego przypadku nie powinno być trudne do uzyskania. Wyświetl obraz po detekcji krawędzi.\n",
    "   3. Wykonaj transformatę Hougha obrazu krawędziowego. Wykorzystaj funkcję *hough\\_line*.\n",
    "   4. Wyświetl macierz H. Czy widoczna jest taka liczba maksimów jakiej się spodziewamy?"
   ]
  },
  {
   "cell_type": "code",
   "execution_count": null,
   "metadata": {},
   "outputs": [],
   "source": [
    "I_kwadraty = cv2.imread('kwadraty.png', cv2.IMREAD_GRAYSCALE)\n",
    "kwadraty_canny = cv2.Canny(I_kwadraty, 5, 10, None, 3, 1)\n",
    "\n",
    "plt.imshow(kwadraty_canny, 'gray')\n",
    "plt.axis('off')\n",
    "plt.show()\n",
    "\n",
    "hough_kwadraty = hough_line(kwadraty_canny)\n",
    "show_hough(hough_kwadraty[0], I_kwadraty)\n"
   ]
  },
  {
   "cell_type": "markdown",
   "metadata": {},
   "source": [
    "\n",
    " 5. W module skimage.transform dostępna jest funkcja do automatycznej analizy przestrzeni Hougha - wyszukiwania maksimów - *hough\\_line\\_peaks*. Jako parametry przyjmuje ona wyniki funkcji *hough\\_line* (macierz H, theta i rho). Dodatkowo można podać próg powyżej którego punkt uznawany jest za maksimum (_threshold_ - domyslnie jest to połowa maksimum w przestrzeni H) oraz liczbę poszukiwanych maksimów (*num_peaks*). Funkcja zwraca współrzędne maksimów. Wykorzystaj funkcję *hough\\_line\\_peaks* do znalezienia maksimów odpowiadających krawędziom kwadratów.\n",
    " 6. Wyświetl macierz H używając konstrukcji:"
   ]
  },
  {
   "cell_type": "code",
   "execution_count": null,
   "metadata": {},
   "outputs": [],
   "source": [
    "h, angles, distances = hough_line_peaks(hough_kwadraty[0], hough_kwadraty[1], hough_kwadraty[2])\n",
    "# fig,ax = plt.subplots(1)\n",
    "# ax.set_aspect('equal')\n",
    "#\n",
    "# ax.imshow(H, 'gray') # gdzie H jest przestrzenią Hougha"
   ]
  },
  {
   "cell_type": "markdown",
   "metadata": {},
   "source": [
    "Taki zapis pozwoli na dołożenie annotacji (okręgów) w miejscach znalezionych maksimów. Wyrysowanie okręgu w punkcie x, y (o rozmiarze 10, w czerwonym kolorze, bez wypełnienia środka) realizuje wywołanie: \n",
    "\n",
    "**circle = plt.Circle((x, y), 10, color='r', fill=False)**\n",
    "\n",
    "natomiast dołożenie takiego okręgu do obrazu to:\n",
    "\n",
    "**ax.add_patch(circle)**\n",
    "\n",
    "Zaznacz maksima na obrazie wykorzystując rezultat funkcji *hough\\_line\\_peaks* biorąc pod uwagę, że zwraca ona kąty w radianach z przedziału od -pi/2 do pi/2, a rho z przedziału od -r/2 do r/2 gdzie r to pionowy rozmiar przestrzeni Hougha. "
   ]
  },
  {
   "cell_type": "code",
   "execution_count": null,
   "metadata": {},
   "outputs": [],
   "source": [
    "angles = (angles*(180/np.pi))\n",
    "angles +=90\n",
    "distances+=363\n",
    "circles = []\n",
    "\n",
    "for i in range(len(angles)):\n",
    "    circles.append(plt.Circle((angles[i], distances[i]), 10, color='r', fill=False))\n",
    "\n",
    "figure, axis = plt.subplots(1, figsize=(30, 15))\n",
    "axis.set_aspect('equal')\n",
    "axis.imshow(hough_kwadraty[0], 'gray')\n",
    "\n",
    "for circle in circles:\n",
    "    axis.add_patch(circle)"
   ]
  },
  {
   "cell_type": "markdown",
   "metadata": {},
   "source": [
    "7. Istnieje też możliwość przeprowadzenia transformacji Hougha z użyciem biblioteki OpenCV. W bibliotece znajdują się dwie wersje funkcji wyszukującej linie proste - 'klasyczna' - _HoughLines_ oraz probabilistyczna _HoughLinesP_. Zadna z nich nie zwraca przestrzeni Hougha. Wynikiem działania pierwszej jest lista parametrów prostych (krotki zawierające rho, theta). Druga zwraca krotki 4-ro elementowe ze współrzędnymi końców odcinków wykorzystanych do wylicznia parametrów (czyli znalezienia prostej). \n",
    "8. Wyznacz linie obecne na obrazie za pomocą funkcji _HoughLines_. Wykryte linie wyrysuj na obrazie początkowym (UWAGA: wczytanym bez konwersji na graylevel). Do wyświetlania linii wykorzystaj przykładowy kod:"
   ]
  },
  {
   "cell_type": "code",
   "execution_count": null,
   "metadata": {},
   "outputs": [],
   "source": [
    "I_kwadraty = cv2.imread('kwadraty.png')\n",
    "kwadraty_canny = cv2.Canny(I_kwadraty, 5, 10, None, 3, 1)\n",
    "kwadraty_lines = cv2.HoughLines(kwadraty_canny, 1, np.pi / 180, 45)\n",
    "\n",
    "I_kwadraty_with_lines = I_kwadraty.copy()\n",
    "for line in kwadraty_lines:\n",
    "    rho, theta = line[0]\n",
    "\n",
    "    a = np.cos(theta)\n",
    "    b = np.sin(theta)\n",
    "\n",
    "    x0 = a*rho\n",
    "    y0 = b*rho\n",
    "\n",
    "    x1 = int(x0 + 1000*(-b))\n",
    "    y1 = int(y0 + 1000*(a))\n",
    "    x2 = int(x0 - 1000*(-b))\n",
    "    y2 = int(y0 - 1000*(a))\n",
    "\n",
    "    cv2.line(I_kwadraty_with_lines, (x1, y1), (x2, y2), (0, 0, 255), 1)\n",
    "\n",
    "plt.imshow(I_kwadraty_with_lines, 'gray')\n",
    "plt.axis('off')\n",
    "plt.show()"
   ]
  },
  {
   "cell_type": "code",
   "execution_count": null,
   "metadata": {},
   "outputs": [],
   "source": []
  },
  {
   "cell_type": "markdown",
   "metadata": {},
   "source": [
    "9. Wyznacz odcinki obecne na obrazie za pomocą funkcji _HoughLinesP_. Wykryte odcinki wyrysuj na obrazie początkowym (UWAGA: wczytanym bez konwersji na graylevel). "
   ]
  },
  {
   "cell_type": "code",
   "execution_count": null,
   "metadata": {},
   "outputs": [],
   "source": [
    "kwadraty_lines = cv2.HoughLinesP(kwadraty_canny, 1, np.pi / 180, 25, minLineLength=15, maxLineGap=5)\n",
    "\n",
    "I_kwadraty_with_lines = I_kwadraty.copy()\n",
    "for line in kwadraty_lines:\n",
    "    x1, y1, x2, y2 = line[0]\n",
    "    cv2.line(I_kwadraty_with_lines, (x1, y1), (x2, y2), (0, 0, 255), 2)\n",
    "\n",
    "plt.imshow(I_kwadraty_with_lines, 'gray')\n",
    "plt.axis('off')\n",
    "plt.show()"
   ]
  },
  {
   "cell_type": "markdown",
   "metadata": {},
   "source": [
    "### Transformata Hougha dla obrazu rzeczywistego.\n",
    "\n",
    "Bazując na kodzie stworzonym w punkcie B wyszukamy linie na obrazie rzeczywistym.\n",
    "   1. Wczytaj obraz \"lab112.png\". Wyświetl go.\n",
    "   2. Wykorzystując wszystkie poznane techniki przetwarzania obrazów (filtracja, przekształcenia morfologiczne, binaryzację, detekcję krawędzi) wyodrębnij krawędzie samych kwadratów - tak aby były jak najlepszej jakości (cienkie) - jednocześnie eliminując z obrazu zakłócenia.\n",
    "   3. Wykorzystaj funkcje *hough_line* i *hough_line_peaks* do detekcji linii na obrazie, a następnie np. wykorzystując kod z punktu 8 poprzedniego ustępu wyrysuj na oryginalnym obrazie znalezione linie."
   ]
  },
  {
   "cell_type": "code",
   "execution_count": null,
   "metadata": {},
   "outputs": [],
   "source": [
    "I_lab = cv2.imread(\"lab112.png\", cv2.IMREAD_GRAYSCALE)\n",
    "\n",
    "plt.imshow(I_lab, 'gray')\n",
    "plt.axis('off')\n",
    "plt.show()\n",
    "\n",
    "I_lab = np.where(I_lab > 35, 0, 255) # threshold\n",
    "I_lab[:,500:] = 0 # ucięcie obrazu\n",
    "I_lab = I_lab.astype('uint8')\n",
    "lab_canny = cv2.Canny(I_lab, 0, 255, None, 3, 1)\n",
    "\n",
    "plt.imshow(lab_canny, 'gray')\n",
    "plt.axis('off')\n",
    "plt.show()\n",
    "\n",
    "lab_hough = hough_line(lab_canny)\n",
    "h, theta, rho = hough_line_peaks(lab_hough[0], lab_hough[1], lab_hough[2])\n",
    "\n",
    "I_lab_with_lines = cv2.cvtColor(I_lab, cv2.COLOR_GRAY2BGR)\n",
    "for rho, theta in zip(rho, theta):\n",
    "    rho = rho\n",
    "    theta = theta\n",
    "\n",
    "    a = np.cos(theta)\n",
    "    b = np.sin(theta)\n",
    "\n",
    "    x0 = a*rho\n",
    "    y0 = b*rho\n",
    "\n",
    "    x1 = int(x0 + 1000*(-b))\n",
    "    y1 = int(y0 + 1000*(a))\n",
    "    x2 = int(x0 - 1000*(-b))\n",
    "    y2 = int(y0 - 1000*(a))\n",
    "\n",
    "    cv2.line(I_lab_with_lines, (x1, y1), (x2, y2), (0, 0, 255), 2)\n",
    "\n",
    "plt.imshow(I_lab_with_lines, 'gray')\n",
    "plt.axis('off')\n",
    "plt.show()"
   ]
  },
  {
   "cell_type": "markdown",
   "metadata": {},
   "source": [
    "4. Wczytaj obraz \"dom.png\". Wypróbuj działanie transformacji Hougha na tym obrazie z wykorzystaniem funkcji _cv2.HoughLinesP_  (oczywiście po odpowiednich przekształceniach). Postaraj się tak przygotować obraz z krawędziami i dobrać parametry aby wyrysować na oryginalnym obrazie odcinki obejmujące zarysy domu. Weź pod uwage dodatkowe parametry funkcji, takie jak:   minLineLength, maxLineGap."
   ]
  },
  {
   "cell_type": "code",
   "execution_count": null,
   "metadata": {},
   "outputs": [],
   "source": [
    "I_dom = cv2.imread(\"dom.png\", cv2.IMREAD_GRAYSCALE)\n",
    "I_dom_not_gray = cv2.imread(\"dom.png\")\n",
    "\n",
    "plt.imshow(I_dom, 'gray')\n",
    "plt.axis('off')\n",
    "plt.show()\n",
    "\n",
    "I_dom_blur = cv2.GaussianBlur(I_dom, (15, 15), 0)\n",
    "I_dom_blur = cv2.GaussianBlur(I_dom_blur, (7, 7), 0)\n",
    "I_dom_canny = cv2.Canny(I_dom_blur, 15, 30, None, 3, 1)\n",
    "\n",
    "plt.imshow(I_dom_canny, 'gray')\n",
    "plt.axis('off')\n",
    "plt.show()\n",
    "\n",
    "dom_lines = cv2.HoughLinesP(I_dom_canny, 1, np.pi / 180, 25, minLineLength=1, maxLineGap=15)\n",
    "\n",
    "I_dom_canny_with_lines = I_dom_not_gray.copy()\n",
    "for line in dom_lines:\n",
    "    x1, y1, x2, y2 = line[0]\n",
    "    cv2.line(I_dom_canny_with_lines, (x1, y1), (x2, y2), (255, 0, 0), 2)\n",
    "\n",
    "plt.imshow(I_dom_canny_with_lines)\n",
    "plt.axis('off')\n",
    "plt.show()"
   ]
  }
 ],
 "metadata": {
  "celltoolbar": "Raw Cell Format",
  "kernelspec": {
   "display_name": "Python 3",
   "language": "python",
   "name": "python3"
  },
  "language_info": {
   "codemirror_mode": {
    "name": "ipython",
    "version": 3
   },
   "file_extension": ".py",
   "mimetype": "text/x-python",
   "name": "python",
   "nbconvert_exporter": "python",
   "pygments_lexer": "ipython3",
   "version": "3.9.1"
  }
 },
 "nbformat": 4,
 "nbformat_minor": 2
}
